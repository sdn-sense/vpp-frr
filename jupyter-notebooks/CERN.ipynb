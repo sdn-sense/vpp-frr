{
 "cells": [
  {
   "cell_type": "markdown",
   "id": "1a1e564b-d78f-4d04-9fc2-59d2f50b2798",
   "metadata": {},
   "source": [
    "# FRR, SiteRM, XrootD on Fabric\n",
    "\n",
    "This setup will install the following:\n",
    "* 1 Router VM with FRR.\n",
    "* 3 Hosts (XRootD) and all will point as GW to Router;\n",
    "* SiteRM Frontend + Agent's will be installed on Router and Host VMs\n",
    "* Monitoring node with Grafana/Prometheus and full ELStack."
   ]
  },
  {
   "cell_type": "code",
   "execution_count": null,
   "id": "ca6db1a8-273d-4d10-9997-b7fab997068c",
   "metadata": {},
   "outputs": [],
   "source": [
    "import os\n",
    "import json\n",
    "import traceback\n",
    "from ipaddress import ip_address, IPv4Address, IPv6Address, IPv4Network, IPv6Network\n",
    "import ipaddress\n",
    "\n",
    "from fabrictestbed_extensions.fablib.fablib import FablibManager as fablib_manager\n",
    "import mflib \n",
    "from mflib.mflib import MFLib\n",
    "\n",
    "fablib = fablib_manager()\n",
    "                     \n",
    "fablib.show_config();\n",
    "slice_name = 'FRR-CERN'\n",
    "\n",
    "# Check version\n",
    "print(f\"MFLib version  {mflib.__version__} \" )\n"
   ]
  },
  {
   "cell_type": "markdown",
   "id": "395a86d5-a065-4074-85c2-5c05fab3d701",
   "metadata": {},
   "source": [
    "## Create the Experiment Slice"
   ]
  },
  {
   "cell_type": "markdown",
   "id": "c0f867a0-8a17-4403-9777-b0fcaf80e95e",
   "metadata": {},
   "source": [
    "# Configuration parameters"
   ]
  },
  {
   "cell_type": "code",
   "execution_count": 3,
   "id": "b6e0f521-395b-4bbf-a467-591a1a4544b3",
   "metadata": {},
   "outputs": [],
   "source": [
    "site = 'CERN'\n",
    "routername = 'frr-cern'\n",
    "image_name = \"docker_ubuntu_22\"\n",
    "host_image = 'docker_rocky_8'\n",
    "\n",
    "# 2602:fcfb:001d:fff0::/64 - is used for Peering with Cisco Fabric;\n",
    "frr_config = {'range': '2602:fcfb:001d:fff0::/64',\n",
    "             'ip': '2602:fcfb:001d:fff0::2/64',\n",
    "             'gw': '2602:fcfb:001d:fff0::1',\n",
    "             'vlan': 99}\n",
    "\n",
    "# 2602:fcfb:001d:fff1::64, 2602:fcfb:001d:fff2::/64, 2602:fcfb:001d:fff3::/64 \n",
    "# Those IP Ranges uses for FRR node\n",
    "ip_ranges = {\"2602:fcfb:001d:fff1::/64\": {\n",
    "    'frr': \"2602:fcfb:001d:fff1::a/64\",\n",
    "    'vlan': 100},\n",
    "        \"2602:fcfb:001d:fff2::/64\": {\n",
    "    'frr': \"2602:fcfb:001d:fff2::a/64\",\n",
    "    'vlan': 101},\n",
    "        \"2602:fcfb:001d:fff3::/64\": {\n",
    "    'frr': \"2602:fcfb:001d:fff3::a/64\",\n",
    "    'vlan': 102}}\n",
    "\n",
    "# Host IPs and corresponding gateways (pointing to FRR)\n",
    "hosts = {\"host1\": {\n",
    "    '2602:fcfb:001d:fff1::2/64': '2602:fcfb:001d:fff1::a',\n",
    "    '2602:fcfb:001d:fff2::2/64': '2602:fcfb:001d:fff2::a',\n",
    "    '2602:fcfb:001d:fff3::2/64': '2602:fcfb:001d:fff3::a',\n",
    "}, \"host2\": {\n",
    "    '2602:fcfb:001d:fff1::3/64': '2602:fcfb:001d:fff1::a',\n",
    "    '2602:fcfb:001d:fff2::3/64': '2602:fcfb:001d:fff2::a',\n",
    "    '2602:fcfb:001d:fff3::3/64': '2602:fcfb:001d:fff3::a',\n",
    "}, \"host3\": {\n",
    "    '2602:fcfb:001d:fff1::4/64': '2602:fcfb:001d:fff1::a',\n",
    "    '2602:fcfb:001d:fff2::4/64': '2602:fcfb:001d:fff2::a',\n",
    "    '2602:fcfb:001d:fff3::4/64': '2602:fcfb:001d:fff3::a',\n",
    "}}\n",
    "\n",
    "hostspub = {\"host1\": {\"2602:fcfb:001d:fff0::a/64\": '2602:fcfb:001d:fff0::2/64'},\n",
    "            \"host2\": {\"2602:fcfb:001d:fff0::b/64\": '2602:fcfb:001d:fff0::2/64'},\n",
    "            \"host3\": {\"2602:fcfb:001d:fff0::c/64\": '2602:fcfb:001d:fff0::2/64'}}\n",
    "\n",
    "\n",
    "# List of destinations, for which to add static routes and use dataplane interface\n",
    "use_dataplane_routes = {\"2602:fcfb::/36\": \"Fabric\",\n",
    "                        \"2001:1458::/32\": \"Cern\",\n",
    "                        \"2620:6a::/48\": \"Fermilab\",\n",
    "                        \"2605:d9c0::/32\": \"Caltech\",\n",
    "                        \"2600:900::/28\": \"Nebraska\",\n",
    "                        \"2001:48d0::/32\": \"SDSC\"}\n",
    "\n",
    "# XRootd configurations\n",
    "# Location of XRootD Redirector (only passed as env parameter to xrootd)\n",
    "xrd_redir = \"cern-sub1-host1-redir.exp.fabric-testbed.net\"\n",
    "# XRootD HTTP Requires to provide secret (and must be equal between all xrootd servers).\n",
    "# Modify as you see it fit.\n",
    "xrd_http_secret = \"pYrySWhj4BftwJkSbMyAk8ha3p5YXsAt7g3mFzx7Vkg\"\n",
    "\n",
    "\n",
    "\n",
    "\n",
    "# Helper Functions\n",
    "import subprocess\n",
    "import shlex\n",
    "\n",
    "def runcmd(nodes, commands):\n",
    "    print(\"RUN COMMANDS\")\n",
    "    for command in commands:\n",
    "        for nodename in nodes:\n",
    "            node = slice.get_node(name=nodename)\n",
    "            print(f'Execute: {command} on {nodename}')\n",
    "            stdout, stderr = node.execute(command)\n",
    "\n",
    "def runonecmd(node, nodename, command):\n",
    "    print(f'Execute: {command} on {nodename}')\n",
    "    stdout, stderr = node.execute(command)\n",
    "\n",
    "def runIntfTuning(nodes):\n",
    "    print(\"NODE INTERFACE TUNING\")\n",
    "    for nodename in nodes:\n",
    "        node = slice.get_node(name=nodename)\n",
    "        for intf in node.get_interfaces():\n",
    "            command = f\"sudo sh vpp-frr/interface-tuning.sh {intf.get_device_name()}\"\n",
    "            print(f'Execute: {command} on {nodename}')\n",
    "            stdout, stderr = node.execute(command)\n",
    "\n",
    "def localcmd(command):\n",
    "    \"\"\"Execute command locally and return stdout and stderr.\"\"\"\n",
    "    print(f'Execute local cmd: {command}')\n",
    "    command = shlex.split(str(command))\n",
    "    proc = subprocess.Popen(command, stdout=subprocess.PIPE, stderr=subprocess.PIPE)\n",
    "    return proc.communicate()\n",
    "\n",
    "\n",
    "\n"
   ]
  },
  {
   "cell_type": "markdown",
   "id": "d74aa864-57f0-4957-a7f2-45fe381f417f",
   "metadata": {},
   "source": [
    "# Create Slice"
   ]
  },
  {
   "cell_type": "code",
   "execution_count": null,
   "id": "1689f4a2-a077-4a06-aa0c-802b9243fa2b",
   "metadata": {},
   "outputs": [],
   "source": [
    "#Create Slice\n",
    "slice = fablib.new_slice(name=slice_name)\n",
    "\n",
    "# Add Router;\n",
    "router = slice.add_node(name=routername, site=site, cores=16, ram=16, disk=10, image=image_name)\n",
    "routernic = router.add_component(model='NIC_ConnectX_6', name='nic_local').get_interfaces()\n",
    "# This will get dedicated NIC with 2 ports.\n",
    "# Port-1 - Is used for Peering with Fabric Cisco\n",
    "# Port-2 - Is used for hosts (L2 Network)\n",
    "# For SENSE Needs - everything uses sub-interfaces;\n",
    "subnet = IPv6Network(frr_config['range'])\n",
    "vlan = frr_config['vlan']\n",
    "net1 = slice.add_l3network(name=f'pub-0', type='IPv6Ext', subnet=subnet)\n",
    "ciface = routernic[1].add_sub_interface(f\"vlan{vlan}\", vlan=str(vlan), bw=100)\n",
    "ciface.set_mode('manual')\n",
    "net1.add_interface(ciface)\n",
    "\n",
    "# Add Networks and interfaces to FRR\n",
    "counter=0\n",
    "for iprange, rangeitems in ip_ranges.items():\n",
    "    subnet = IPv6Network(iprange)\n",
    "    vlan = rangeitems['vlan']\n",
    "    gateway = subnet[1]\n",
    "    net1 = slice.add_l2network(name=f'test-{counter}', subnet=subnet, gateway=gateway)\n",
    "    ciface = routernic[0].add_sub_interface(f\"vlan{vlan}\", vlan=str(vlan), bw=100)\n",
    "    ciface.set_mode('manual')\n",
    "    net1.add_interface(ciface)        \n",
    "    counter+=1\n",
    "\n",
    "# Add Network and interfaces to Hosts\n",
    "counter = 0\n",
    "intcounter = 0\n",
    "for host, rangeitems in hosts.items():\n",
    "    node = slice.add_node(name=f\"{host}\", site=site, cores=4, ram=8, disk=100, image=host_image)\n",
    "    counter = 0\n",
    "    for hostip, hostgw in rangeitems.items():\n",
    "        iface = node.add_component(model='NIC_Basic', name=f'nic_local-{counter}-{intcounter}').get_interfaces()[0]\n",
    "        iface.set_mode('manual')\n",
    "        net1 = slice.get_network(name=f'test-{counter}')\n",
    "        net1.add_interface(iface)\n",
    "        intcounter+=1\n",
    "        counter+=1\n",
    "    # Add Also pub-0 basic\n",
    "    iface = node.add_component(model='NIC_Basic', name=f'nic_pub0-{counter}-{intcounter}').get_interfaces()[0]\n",
    "    iface.set_mode('manual')\n",
    "    net1 = slice.get_network(name=f'pub-0')\n",
    "    net1.add_interface(iface)\n",
    "\n",
    "# Add Measurement node:\n",
    "MFLib.addMeasNode(slice, site=site, disk=100)\n",
    "\n",
    "slice.submit()"
   ]
  },
  {
   "cell_type": "markdown",
   "id": "b62c6136-0606-4dac-a29a-213bb4b03761",
   "metadata": {},
   "source": [
    "## Deploy monitoring (Takes long time to install)"
   ]
  },
  {
   "cell_type": "code",
   "execution_count": null,
   "id": "e03c1e07-ec60-4179-9a57-dfa1f3b7c0e1",
   "metadata": {},
   "outputs": [],
   "source": [
    "print(f\"MFLib version  {mflib.__version__} \" )\n",
    "# Import MFLib Class\n",
    "from mflib.mflib import MFLib\n",
    "# The slice name of the slice with which you want to interact.\n",
    "mf = MFLib(slice_name, mf_repo_branch=\"main\")\n",
    "print(mf.grafana_tunnel)\n",
    "instrumetize_results = mf.instrumentize()\n",
    "print(mf.grafana_tunnel)\n",
    "\n",
    "print(f\"Browse to https://localhost:{mf.grafana_tunnel_local_port}/grafana/dashboards?query=%2A\")"
   ]
  },
  {
   "cell_type": "markdown",
   "id": "aca7057b-2275-4052-a512-c973410bcbc8",
   "metadata": {},
   "source": [
    "# All node tuning for high throughput"
   ]
  },
  {
   "cell_type": "code",
   "execution_count": null,
   "id": "d99409f5-de37-49c5-9b54-8498bbfb155c",
   "metadata": {},
   "outputs": [],
   "source": [
    "commands = [\"sudo apt update\",\n",
    "            \"sudo apt install -y docker-compose-plugin\", \n",
    "            \"sudo usermod -aG docker ubuntu\",\n",
    "            \"git clone https://github.com/sdn-sense/vpp-frr\",\n",
    "            \"sudo sh vpp-frr/tuning.sh\"]\n",
    "runcmd([routername], commands)\n",
    "print('-'*100)\n",
    "runIntfTuning([routername])\n",
    "\n",
    "# Install docker, clone tuning, and tune node;\n",
    "commands = [\"sudo service docker start\",\n",
    "           \"git clone https://github.com/sdn-sense/vpp-frr\",\n",
    "            \"sudo sh vpp-frr/tuning.sh\"]\n",
    "runcmd(list(hosts.keys()), commands)\n",
    "print('-'*100)\n",
    "runIntfTuning(list(hosts.keys()))"
   ]
  },
  {
   "cell_type": "markdown",
   "id": "ee722dc9-5ed9-4850-b85e-07443015ef6c",
   "metadata": {},
   "source": [
    "## Configure IPs on FRR and Hosts (set GWs)"
   ]
  },
  {
   "cell_type": "code",
   "execution_count": null,
   "id": "268c564f-c729-4ad3-981e-236742e238c9",
   "metadata": {},
   "outputs": [],
   "source": [
    "router = slice.get_node(name=routername)\n",
    "# 1. Disable accept_ra for the first interface. That add a default route and we want to avoid that\n",
    "router_iface = router.get_interface(network_name=f'pub-0')\n",
    "iface = router_iface.get_physical_os_interface_name()\n",
    "runonecmd(router, routername, f\"sudo sysctl -w net.ipv6.conf.{iface.replace('.', '/')}.accept_ra=0\")\n",
    "runonecmd(router, routername, f\"sudo ip link set {iface} down\")\n",
    "runonecmd(router, routername, f\"sudo ip link set {iface} up\")\n",
    "# 2. Disable accept_ra also for vlan device\n",
    "iface = router_iface.get_device_name()\n",
    "runonecmd(router, routername, f\"sudo sysctl -w net.ipv6.conf.{iface.replace('.', '/')}.accept_ra=0\")\n",
    "runonecmd(router, routername, f\"sudo ip link set {iface} down\")\n",
    "runonecmd(router, routername, f\"sudo ip link set {iface} up\")\n",
    "# 3. Set IP and default routes as defined in configuration\n",
    "#   Issue is on Fabric IPv6 Mgmt hosts - default route will be via mgmt;\n",
    "# Deleting it will restore back. Would need explicit routing, but at the same time\n",
    "# need a way to control mgmt interface setup. Best would be if there is an option\n",
    "# to say that mgmt interface - do not set default route and use only explicit routing.\n",
    "# If we want to make it static - we also need to modify netplan (which is also controlled by fabric)\n",
    "iface = router_iface.get_device_name()\n",
    "command = f\"sudo ip addr add {frr_config['ip']} dev {iface}\"\n",
    "runonecmd(router, routername, command)\n",
    "# 4. Set default routes for all our known ranges (CERN,Fabric,Caltech,SDSC,Fermilab,Nebraska, etc..)\n",
    "for iprange, name in use_dataplane_routes.items():\n",
    "    command = f\"sudo ip -6 route add {iprange} via {frr_config['gw']} dev {iface}\"\n",
    "    runonecmd(router, routername, command)\n",
    "\n",
    "# For all other L2 networks for Hosts - Move interfaces on FRR also to Net-NS and set IPs;\n",
    "counter=0\n",
    "intfdone = []\n",
    "for iprange, rangeitems in ip_ranges.items():\n",
    "    router_iface = router.get_interface(network_name=f'test-{counter}')\n",
    "    # Disable accept_ra\n",
    "    iface = router_iface.get_physical_os_interface_name()\n",
    "    if iface not in intfdone:\n",
    "        runonecmd(router, routername, f\"sudo sysctl -w net.ipv6.conf.{iface.replace('.', '/')}.accept_ra=0\")\n",
    "        runonecmd(router, routername, f\"sudo ip link set {iface} down\")\n",
    "        runonecmd(router, routername, f\"sudo ip link set {iface} up\")\n",
    "        intfdone.append(iface)\n",
    "    # Disable accept_ra for sub device\n",
    "    iface = router_iface.get_device_name()\n",
    "    if iface not in intfdone:\n",
    "        runonecmd(router, routername, f\"sudo sysctl -w net.ipv6.conf.{iface.replace('.', '/')}.accept_ra=0\")\n",
    "        runonecmd(router, routername, f\"sudo ip link set {iface} down\")\n",
    "        runonecmd(router, routername, f\"sudo ip link set {iface} up\")\n",
    "        intfdone.append(iface)\n",
    "    command = f\"sudo ip addr add {rangeitems['frr']} dev {iface}\"\n",
    "    runonecmd(router, routername, command)\n",
    "    counter+=1\n",
    "\n",
    "# Set IPs on Hosts;\n",
    "counter = 0\n",
    "intcounter = 0\n",
    "for host, rangeitems in hosts.items():\n",
    "    node1 = slice.get_node(name=host)\n",
    "    counter = 0\n",
    "    intfdone = []\n",
    "    for hostip, hostgw in rangeitems.items():\n",
    "        node1_iface = node1.get_interface(name=f'{host}-nic_local-{counter}-{intcounter}-p1')        \n",
    "        intf_name = node1_iface.get_device_name()\n",
    "        net1 = slice.get_network(name=f'test-{counter}')\n",
    "        if intf_name not in intfdone:\n",
    "            runonecmd(node1, host, f\"sudo sysctl -w net.ipv6.conf.{intf_name.replace('.', '/')}.accept_ra=0\")\n",
    "            runonecmd(node1, host, f\"sudo ip link set {intf_name} down\")\n",
    "            runonecmd(node1, host, f\"sudo ip link set {intf_name} up\")\n",
    "            intfdone.append(intf_name)\n",
    "        command = f\"sudo ip addr add {hostip} dev {intf_name}\"\n",
    "        runonecmd(node1, host, command)\n",
    "        intcounter+=1\n",
    "        counter+=1"
   ]
  },
  {
   "cell_type": "code",
   "execution_count": null,
   "id": "47563fb6-629b-487d-99ab-169aa76f5acc",
   "metadata": {},
   "outputs": [],
   "source": [
    "for host, hostips in hostspub.items():\n",
    "    node1 = slice.get_node(name=host)\n",
    "    counter = 0\n",
    "    for ip, gw in hostips.items():\n",
    "        node1_iface = node1.get_interface(network_name=f'pub-{counter}')        \n",
    "        intf_name = node1_iface.get_device_name()\n",
    "        runonecmd(node1, host, f\"sudo sysctl -w net.ipv6.conf.{intf_name.replace('.', '/')}.accept_ra=0\")\n",
    "        runonecmd(node1, host, f\"sudo ip link set {intf_name} down\")\n",
    "        runonecmd(node1, host, f\"sudo ip link set {intf_name} up\")\n",
    "        runonecmd(node1, host, f\"sudo ip addr add {ip} dev {intf_name}\")\n",
    "        for iprange, name in use_dataplane_routes.items():\n",
    "            command = f\"sudo ip -6 route add {iprange} via {gw.split('/')[0]} dev {intf_name}\"\n",
    "            runonecmd(node1, host, command)\n",
    "        counter+=1"
   ]
  },
  {
   "cell_type": "markdown",
   "id": "88e45d43-b255-46b3-9d5a-4f7df15f23d5",
   "metadata": {},
   "source": [
    "## Deploy FRR and configure FRR to be a router."
   ]
  },
  {
   "cell_type": "code",
   "execution_count": null,
   "id": "47661d49-ff0a-44fa-8f0a-622c647ae6a9",
   "metadata": {},
   "outputs": [],
   "source": [
    "node1 = slice.get_node(name=routername)\n",
    "commands = [\"sudo nft flush ruleset\",\n",
    "    \"cd vpp-frr/frr-no-dpdk/ && sudo docker compose up -d\",\n",
    "    \"sh vpp-frr/frr-no-dpdk/keygen.sh\"]\n",
    "runcmd([routername], commands)"
   ]
  },
  {
   "cell_type": "markdown",
   "id": "0e51b8ac-21db-4f86-8f01-44a3c2056632",
   "metadata": {},
   "source": [
    "## Download SiteRM Repo to all nodes"
   ]
  },
  {
   "cell_type": "code",
   "execution_count": null,
   "id": "85ad451f-e85e-4f2a-a9b4-678954de2fa6",
   "metadata": {},
   "outputs": [],
   "source": [
    "slice = fablib.get_slice(name=slice_name)\n",
    "commands = [\"git clone https://github.com/sdn-sense/siterm-startup\"]\n",
    "node1 = slice.get_node(name=routername)\n",
    "runcmd([routername], commands)\n",
    "for host in list(hosts.keys()):\n",
    "    runcmd([host], commands)"
   ]
  },
  {
   "cell_type": "markdown",
   "id": "7c73c8c4-2111-4bac-b361-d12d404bf19e",
   "metadata": {},
   "source": [
    "## Copy Certificates, creds from your bastion node"
   ]
  },
  {
   "cell_type": "code",
   "execution_count": null,
   "id": "5ba82919-ef0f-4819-8d3e-a93fb8615737",
   "metadata": {},
   "outputs": [],
   "source": [
    "commands = [\"cd ~/vpp-frr && git pull\"]\n",
    "runcmd([routername], commands)\n",
    "print('-'*100)\n",
    "\n",
    "# Install docker, clone tuning, and tune node;\n",
    "commands = [\"cd ~/vpp-frr && git pull\"]\n",
    "runcmd(list(hosts.keys()), commands)\n",
    "print('-'*100)\n",
    "\n",
    "# Generate and print commands to copy cert's to required locations\n",
    "import os\n",
    "\n",
    "if not os.path.isfile('macaroon-secret'):\n",
    "    print('If you dont have macaroon secret, generate it using the following command')\n",
    "    print('openssl rand -base64 -out macaroon-secret 64')\n",
    "    print('This file will need to be equal between all nodes')\n",
    "    print('-'*80)\n",
    "\n",
    "scp_cmd = \"scp -i /home/fabric/work/fabric_config/slice_key -F /home/fabric/work/fabric_config/ssh_config \"\n",
    "\n",
    "# frr node for SiteRM FE\n",
    "# hosts - for SiteRM Agent;\n",
    "#         for XRootD;\n",
    "slice = fablib.get_slice(name=slice_name)\n",
    "router = slice.get_node(name=routername)\n",
    "user = router.get_username()\n",
    "mgmtip = router.get_management_ip()\n",
    "for dest, srcfile in {'~/siterm-startup/fe/conf/etc/httpd/certs/cert.pem': 'hostcert.pem',\n",
    "                      '~/siterm-startup/fe/conf/etc/grid-security/hostcert.pem': 'hostcert.pem',\n",
    "                      '~/siterm-startup/fe/conf/etc/httpd/certs/privkey.pem': 'hostkey.pem',\n",
    "                      '~/siterm-startup/fe/conf/etc/grid-security/hostkey.pem': 'hostkey.pem'}.items():\n",
    "    cmd = f\"{scp_cmd} {srcfile} {user}@[{mgmtip}]:{dest}\"\n",
    "    print(localcmd(cmd))\n",
    "# Print host commands\n",
    "for hostname in list(hosts.keys()):\n",
    "    node = slice.get_node(name=hostname)\n",
    "    user = node.get_username()\n",
    "    mgmtip = node.get_management_ip()\n",
    "    for dest, srcfile in {'~/siterm-startup/agent/conf/etc/grid-security/hostcert.pem': 'hostcert.pem',\n",
    "                          '~/siterm-startup/agent/conf/etc/grid-security/hostkey.pem': 'hostkey.pem',\n",
    "                          '~/vpp-frr/xrootd/priv/xrootdcert.pem': 'hostcert.pem',\n",
    "                          '~/vpp-frr/xrootd/priv/xrootdkey.pem': 'hostkey.pem',\n",
    "                          '~/vpp-frr/xrootd/priv/macaroon-secret': 'macaroon-secret'}.items():\n",
    "        cmd = f\"{scp_cmd} {srcfile} {user}@[{mgmtip}]:{dest}\"\n",
    "        print(localcmd(cmd))\n"
   ]
  },
  {
   "cell_type": "markdown",
   "id": "d29f72d9-a02b-4de0-baf8-28d34a07dad7",
   "metadata": {},
   "source": [
    "## Deploy SiteRM Frontend"
   ]
  },
  {
   "cell_type": "code",
   "execution_count": null,
   "id": "9046c6f6-0318-4255-8d7d-923b174b3d80",
   "metadata": {},
   "outputs": [],
   "source": [
    "commands = [\"cd siterm-startup && git pull\",\n",
    "            f\"cp vpp-frr/siterm/{site}/fe/ansible-conf.yaml siterm-startup/fe/conf/etc/ansible-conf.yaml\",\n",
    "            f\"cp vpp-frr/siterm/{site}/fe/siterm.yaml siterm-startup/fe/conf/etc/siterm.yaml\",\n",
    "            f\"cp vpp-frr/siterm/{site}/fe/environment siterm-startup/fe/conf/environment\",\n",
    "            f'cp ~/.ssh/frrsshkey siterm-startup/fe/conf/opt/siterm/config/ssh-keys/frrsshkey',\n",
    "            \"cd siterm-startup/fe/docker/ && ./run.sh -i dev -n host\"]\n",
    "node1 = slice.get_node(name=routername)\n",
    "runcmd([routername], commands)"
   ]
  },
  {
   "cell_type": "markdown",
   "id": "07cedb16-bfcf-424e-bb1d-7545be695d7e",
   "metadata": {},
   "source": [
    "## Deploy SiteRM Agent(s)"
   ]
  },
  {
   "cell_type": "code",
   "execution_count": null,
   "id": "611232c8-fb07-4fff-b451-eb68646d0ff3",
   "metadata": {},
   "outputs": [],
   "source": [
    "for host in list(hosts.keys()):\n",
    "    commands = [\"cd siterm-startup && git pull\",\n",
    "                f\"cp vpp-frr/siterm/{site}/{host}/siterm.yaml siterm-startup/agent/conf/etc/siterm.yaml\",\n",
    "                 \"cd siterm-startup/agent/docker/ && sudo ./run.sh -i dev\"]\n",
    "    runcmd([host], commands)"
   ]
  },
  {
   "cell_type": "markdown",
   "id": "751f68c2-74bd-458a-87f3-507f42cd4106",
   "metadata": {},
   "source": [
    "## Deploy XRootD on all Hosts"
   ]
  },
  {
   "cell_type": "markdown",
   "id": "90acca69-12bc-4169-a973-56a0e0054488",
   "metadata": {},
   "source": [
    "# Configure certs, users, dir and config file for xrootd;"
   ]
  },
  {
   "cell_type": "code",
   "execution_count": null,
   "id": "0c01f059-e3bb-4282-a7bc-1568974841a8",
   "metadata": {},
   "outputs": [],
   "source": [
    "slice = fablib.get_slice(name=slice_name)\n",
    "commands = [\"cd ~/vpp-frr && git pull\"]\n",
    "runcmd(list(hosts.keys()), commands)\n",
    "print('-'*100)\n",
    "\n",
    "\n",
    "commands = [\"sudo python3 ~/vpp-frr/xrootd/config/default/opt/usergroupchecker.py --notimeout\",\n",
    "            \"sudo chown xrootd:xrootd ~/vpp-frr/xrootd/priv/*.pem\",\n",
    "            \"sudo chmod 600 ~/vpp-frr/xrootd/priv/xrootdkey.pem\",\n",
    "            \"sudo mkdir -p /storage/cms/store/\",\n",
    "            \"sudo chown cmsuser:cmsuser /storage/cms/store/\",\n",
    "            \"sed -i 's|XRD_HTTP_SECRET_KEY=.*|XRD_HTTP_SECRET_KEY=%s|' ~/vpp-frr/xrootd/.env\" % xrd_http_secret,\n",
    "            \"sed -i 's|XRD_REDIR=.*|XRD_REDIR=%s|' ~/vpp-frr/xrootd/.env\" % xrd_redir]\n",
    "\n",
    "for host in list(hosts.keys()):\n",
    "    runcmd([host], commands)"
   ]
  },
  {
   "cell_type": "markdown",
   "id": "6b933003-7dde-49bd-8cc7-3befab496554",
   "metadata": {},
   "source": [
    "# Start XRootD Process on all nodes;"
   ]
  },
  {
   "cell_type": "code",
   "execution_count": null,
   "id": "92113296-0f53-4d77-ae94-b09a275f8f85",
   "metadata": {},
   "outputs": [],
   "source": [
    "commands = [\"cd vpp-frr/xrootd/ && sudo docker compose up -d\"]\n",
    "for host in list(hosts.keys()):\n",
    "    runcmd([host], commands)"
   ]
  },
  {
   "cell_type": "markdown",
   "id": "acb95eb0-70ae-487b-91d7-3740bf23b821",
   "metadata": {},
   "source": [
    "## Extend slice to max (2 weeks)\n",
    "\n",
    "Extend slice for another two weeks to keep it active"
   ]
  },
  {
   "cell_type": "code",
   "execution_count": null,
   "id": "a5688713-e450-4354-bf9a-57382e2e2d83",
   "metadata": {},
   "outputs": [],
   "source": [
    "# Extend slice (if already present)\n",
    "from datetime import datetime\n",
    "from datetime import timezone\n",
    "from datetime import timedelta\n",
    "from fabrictestbed_extensions.fablib.fablib import FablibManager as fablib_manager\n",
    "\n",
    "fablib = fablib_manager()\n",
    "                     \n",
    "fablib.show_config();\n",
    "\n",
    "#Set end host to now plus 1 day\n",
    "end_date = (datetime.now(timezone.utc) + timedelta(days=14)).strftime(\"%Y-%m-%d %H:%M:%S %z\")\n",
    "\n",
    "try:\n",
    "    slice = fablib.get_slice(name=slice_name)\n",
    "    slice.renew(end_date)\n",
    "except Exception as e:\n",
    "    print(f\"Exception: {e}\")\n",
    "\n",
    "# Check slice end date\n",
    "try:\n",
    "    slice = fablib.get_slice(name=slice_name)\n",
    "    print(f\"Lease End (UTC)        : {slice.get_lease_end()}\")\n",
    "       \n",
    "except Exception as e:\n",
    "    print(f\"Exception: {e}\")"
   ]
  }
 ],
 "metadata": {
  "kernelspec": {
   "display_name": "Python 3 (ipykernel)",
   "language": "python",
   "name": "python3"
  },
  "language_info": {
   "codemirror_mode": {
    "name": "ipython",
    "version": 3
   },
   "file_extension": ".py",
   "mimetype": "text/x-python",
   "name": "python",
   "nbconvert_exporter": "python",
   "pygments_lexer": "ipython3",
   "version": "3.11.8"
  }
 },
 "nbformat": 4,
 "nbformat_minor": 5
}
